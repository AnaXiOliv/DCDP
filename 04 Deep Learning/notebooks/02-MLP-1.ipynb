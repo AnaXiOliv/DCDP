{
  "nbformat": 4,
  "nbformat_minor": 0,
  "metadata": {
    "colab": {
      "provenance": [],
      "toc_visible": true
    },
    "kernelspec": {
      "name": "python3",
      "display_name": "Python 3"
    },
    "language_info": {
      "name": "python"
    },
    "accelerator": "GPU"
  },
  "cells": [
    {
      "cell_type": "markdown",
      "source": [
        "<a href=\"https://colab.research.google.com/github/DCDPUAEM/DCDP/blob/main/04%20Deep%20Learning/notebooks/02-MLP-1.ipynb\" target=\"_parent\"><img src=\"https://colab.research.google.com/assets/colab-badge.svg\" alt=\"Open In Colab\"/></a>"
      ],
      "metadata": {
        "id": "OCYJbEwVkjda"
      }
    },
    {
      "cell_type": "markdown",
      "source": [
        "✅ Conectar la notebook en modo GPU\n",
        "\n",
        "Entorno de ejecución → Cambiar tipo de entorno de ejecución\n",
        "\n",
        "Algunas consideraciones:\n",
        "\n",
        "* No dejar la notebook conectada sin actividad ya que Colab penaliza esto al asignar un entorno con GPU.\n",
        "* No pedir el entorno con GPU si no se va a usar."
      ],
      "metadata": {
        "id": "GFJ63s_YhFD7"
      }
    },
    {
      "cell_type": "markdown",
      "source": [
        "# Redes Neuronales MLP para clasificación\n",
        "\n",
        "<img align=\"center\" width=\"50%\" src=\"https://github.com/DCDPUAEM/DCDP/blob/main/04%20Deep%20Learning/img/mlp.png\"/>\n",
        "\n",
        "En esta notebook usaremos una red neuronal de tipo **MultiLayer Perceptron (MLP)** para el problema de clasificación en el dataset MNIST.\n",
        "\n",
        "Al final, practicaremos el uso de estas redes para buscar un mejor modelo para esta tarea."
      ],
      "metadata": {
        "id": "jVMPmLi1VBRV"
      }
    },
    {
      "cell_type": "markdown",
      "source": [
        "Benchmarks para el dataset MNIST\n",
        "\n",
        "1. **No Routing Needed Between Capsules**, 2020. *Accuracy: 99.87%*\n",
        "\n",
        "    Modelo de redes CNN con Homogeneous Vector Capsules (HVCs) que modifican el flujo de datos entre capas. [Artículo](https://arxiv.org/abs/2001.09136), [código](https://github.com/AdamByerly/BMCNNwHFCs).\n",
        "\n",
        "2. **An Ensemble of Simple Convolutional Neural Network Models for MNIST Digit Recognition**, 2020. *Accuracy: 99.87%*\n",
        "\n",
        "    Modelo de ensamble de redes CNN [Artículo](https://arxiv.org/abs/2008.10400), [código](https://github.com/ansh941/MnistSimpleCNN)."
      ],
      "metadata": {
        "id": "VU2YX1qiLBpd"
      }
    },
    {
      "cell_type": "markdown",
      "source": [
        "## 1. El conjunto de datos"
      ],
      "metadata": {
        "id": "QqvYSnkjVIzR"
      }
    },
    {
      "cell_type": "markdown",
      "source": [
        "Observar que, ahora sí, usamos todo el conjunto de datos completo."
      ],
      "metadata": {
        "id": "_d9wyeG1tpKA"
      }
    },
    {
      "cell_type": "code",
      "execution_count": 2,
      "metadata": {
        "id": "gyilk52n8rbV",
        "colab": {
          "base_uri": "https://localhost:8080/"
        },
        "outputId": "6e965810-0015-41da-d303-87a05c48141d"
      },
      "outputs": [
        {
          "output_type": "stream",
          "name": "stdout",
          "text": [
            "Downloading data from https://storage.googleapis.com/tensorflow/tf-keras-datasets/mnist.npz\n",
            "11490434/11490434 [==============================] - 2s 0us/step\n",
            "X_train shape: (60000, 28, 28)\n",
            "y_train shape: (60000,)\n",
            "X_test shape: (10000, 28, 28)\n",
            "y_test shape: (10000,)\n"
          ]
        }
      ],
      "source": [
        "import numpy as np\n",
        "import matplotlib.pyplot as plt\n",
        "from keras.datasets import mnist\n",
        "\n",
        "# Load MNIST handwritten digit data\n",
        "(X_train, y_train), (X_test, y_test) = mnist.load_data()\n",
        "\n",
        "print(f\"X_train shape: {X_train.shape}\")\n",
        "print(f\"y_train shape: {y_train.shape}\")\n",
        "print(f\"X_test shape: {X_test.shape}\")\n",
        "print(f\"y_test shape: {y_test.shape}\")\n",
        "\n",
        "y_test_original = y_test.copy()  # Hacemos una copia del 'y_test', la usaremos al final"
      ]
    },
    {
      "cell_type": "markdown",
      "source": [
        "Visualizamos 6 ejemplos, junto con sus etiquetas"
      ],
      "metadata": {
        "id": "aMaXApsBWk4v"
      }
    },
    {
      "cell_type": "code",
      "source": [
        "# ------ Obtenemos algunos índices aleatorios:\n",
        "some_idxs = np.random.choice(list(range(y_train.shape[0])),size=6,replace=False)\n",
        "\n",
        "fig, axes = plt.subplots(ncols=6, sharex=False,\n",
        "\t\t\t sharey=True, figsize=(10, 4))\n",
        "for i,idx in enumerate(some_idxs):\n",
        "\taxes[i].set_title(y_train[idx],fontsize=15)\n",
        "\taxes[i].imshow(X_train[idx], cmap='gray')\n",
        "\taxes[i].get_xaxis().set_visible(False)\n",
        "\taxes[i].get_yaxis().set_visible(False)\n",
        "plt.show()"
      ],
      "metadata": {
        "id": "bUTt4ZizVYwv",
        "colab": {
          "base_uri": "https://localhost:8080/",
          "height": 172
        },
        "outputId": "1755866f-93f5-4ef2-e198-d1ad5c95691d"
      },
      "execution_count": 3,
      "outputs": [
        {
          "output_type": "display_data",
          "data": {
            "text/plain": [
              "<Figure size 1000x400 with 6 Axes>"
            ],
            "image/png": "[encoded data removed]"
          },
          "metadata": {}
        }
      ]
    },
    {
      "cell_type": "markdown",
      "source": [
        "## Definiendo la red"
      ],
      "metadata": {
        "id": "mW1Z8KJlcrzo"
      }
    },
    {
      "cell_type": "markdown",
      "source": [
        "**IMPORTANTE❗**\n",
        "\n",
        "Al usar redes neuronales, usalmente el vector de etiquetas debe estar codificado como vectores **one-hot**. Es decir:\n",
        "\n",
        "$$1 → (1,0,...,0) $$\n",
        "$$2 → (0,1,...,0) $$\n",
        "$$ ... $$\n",
        "\n",
        "Entonces, las etiquetas $y$ son matrices de tamaño $N\\times m$ donde\n",
        "\n",
        "* $N$: número de instancias\n",
        "* $m$: número de clases\n",
        "\n",
        "Hacemos la codificación usando la función [`to_categorical`](https://www.tensorflow.org/api_docs/python/tf/keras/utils/to_categorical) de [keras](https://www.tensorflow.org/guide/keras)."
      ],
      "metadata": {
        "id": "LhgR_BXxQh1c"
      }
    },
    {
      "cell_type": "code",
      "source": [
        "from tensorflow.keras.utils import to_categorical\n",
        "\n",
        "print(\"---------- Antes de la codificación ----------\")\n",
        "print(f\"Primeras 5 etiquetas: {y_train[:5]}\")\n",
        "print(f\"Shape: {y_train.shape}\")\n",
        "\n",
        "y_train = to_categorical(y_train,num_classes=10)\n",
        "\n",
        "print(\"---------- Después de la codificación ----------\")\n",
        "print(f\"Primeras 5 etiquetas:\\n{y_train[:5]}\")\n",
        "print(f\"Shape: {y_train.shape}\")\n",
        "\n",
        "y_test = to_categorical(y_test,num_classes=10)"
      ],
      "metadata": {
        "id": "e6m0Lsa287SE",
        "colab": {
          "base_uri": "https://localhost:8080/"
        },
        "outputId": "71ac9d9f-5ac9-496d-8f02-50b230b7aa46"
      },
      "execution_count": 4,
      "outputs": [
        {
          "output_type": "stream",
          "name": "stdout",
          "text": [
            "---------- Antes de la codificación ----------\n",
            "Primeras 5 etiquetas: [5 0 4 1 9]\n",
            "Shape: (60000,)\n",
            "---------- Después de la codificación ----------\n",
            "Primeras 5 etiquetas:\n",
            "[[0. 0. 0. 0. 0. 1. 0. 0. 0. 0.]\n",
            " [1. 0. 0. 0. 0. 0. 0. 0. 0. 0.]\n",
            " [0. 0. 0. 0. 1. 0. 0. 0. 0. 0.]\n",
            " [0. 1. 0. 0. 0. 0. 0. 0. 0. 0.]\n",
            " [0. 0. 0. 0. 0. 0. 0. 0. 0. 1.]]\n",
            "Shape: (60000, 10)\n"
          ]
        }
      ]
    },
    {
      "cell_type": "markdown",
      "source": [
        "En TensorFlow las redes se definen a partir de los tipos de capas y elementos, de manera secuencial y por separado:\n",
        "\n",
        "* **Dense**: implementa la operación: output = activation(dot(input, kernel) + bias) donde activation es la función de activación por elementos pasada como argumento de activación, kernel es una matriz de pesos creada por la capa, y bias es un vector de sesgo creado por la capa (sólo aplicable si use_bias es True).\n",
        "* **Flatten**: Aplana los datos para tener un arreglo unidimensional.\n",
        "* **Sequential**: Agrupa una secuencia de capas para formar un modelo."
      ],
      "metadata": {
        "id": "4d6agAfTRbbI"
      }
    },
    {
      "cell_type": "code",
      "source": [
        "from keras.layers import Dense, Flatten\n",
        "from keras.models import Sequential"
      ],
      "metadata": {
        "id": "rACJOLUmVPKn"
      },
      "execution_count": 5,
      "outputs": []
    },
    {
      "cell_type": "markdown",
      "source": [
        "Definimos la arquitectura de la red neuronal. Observa la elección de:\n",
        "* Activaciones\n",
        "* Función de perdida\n",
        "* Optimizador\n",
        "* Métrica de desempeño"
      ],
      "metadata": {
        "id": "buR2gumKxqlB"
      }
    },
    {
      "cell_type": "code",
      "source": [
        "model = Sequential()\n",
        "model.add(Flatten(input_shape=(28,28)))\n",
        "model.add(Dense(8, activation='tanh'))\n",
        "model.add(Dense(10, activation='softmax'))  # Cuando se trata de tareas de clasificación multiclase, ponemos una activación softmax en la capa de salida\n",
        "\n",
        "model.summary()\n",
        "\n",
        "model.compile(loss='categorical_crossentropy',\n",
        "\t      optimizer='adam',\n",
        "\t      metrics=['acc']\n",
        "\t\t  )"
      ],
      "metadata": {
        "id": "60jIjz2c9gpR",
        "colab": {
          "base_uri": "https://localhost:8080/"
        },
        "outputId": "21812a9c-a7e4-47d7-a56d-a5c429be3aa5"
      },
      "execution_count": 6,
      "outputs": [
        {
          "output_type": "stream",
          "name": "stdout",
          "text": [
            "Model: \"sequential\"\n",
            "_________________________________________________________________\n",
            " Layer (type)                Output Shape              Param #   \n",
            "=================================================================\n",
            " flatten (Flatten)           (None, 784)               0         \n",
            "                                                                 \n",
            " dense (Dense)               (None, 8)                 6280      \n",
            "                                                                 \n",
            " dense_1 (Dense)             (None, 10)                90        \n",
            "                                                                 \n",
            "=================================================================\n",
            "Total params: 6370 (24.88 KB)\n",
            "Trainable params: 6370 (24.88 KB)\n",
            "Non-trainable params: 0 (0.00 Byte)\n",
            "_________________________________________________________________\n"
          ]
        }
      ]
    },
    {
      "cell_type": "markdown",
      "source": [
        "## ⚡ Visualizando la arquitectura de la red"
      ],
      "metadata": {
        "id": "FyrmUWeEh_N5"
      }
    },
    {
      "cell_type": "markdown",
      "source": [
        "A continuación se presentan dos maneras de visualizar la arquitectura de la red."
      ],
      "metadata": {
        "id": "uqMnufm6iCm9"
      }
    },
    {
      "cell_type": "markdown",
      "source": [
        "### 1. Usando visualkeras"
      ],
      "metadata": {
        "id": "GBcIozjp111I"
      }
    },
    {
      "cell_type": "code",
      "source": [
        "!pip install -q visualkeras"
      ],
      "metadata": {
        "colab": {
          "base_uri": "https://localhost:8080/"
        },
        "id": "gkViMsYljCUd",
        "outputId": "0c79a867-67ca-4d79-b3df-fc946fdbbf63"
      },
      "execution_count": null,
      "outputs": [
        {
          "output_type": "stream",
          "name": "stdout",
          "text": [
            "\u001b[?25l     \u001b[90m━━━━━━━━━━━━━━━━━━━━━━━━━━━━━━━━━━━━━━━━\u001b[0m \u001b[32m0.0/993.0 kB\u001b[0m \u001b[31m?\u001b[0m eta \u001b[36m-:--:--\u001b[0m\r\u001b[2K     \u001b[91m━━━━━━━━━━\u001b[0m\u001b[90m╺\u001b[0m\u001b[90m━━━━━━━━━━━━━━━━━━━━━━━━━━━━\u001b[0m \u001b[32m256.0/993.0 kB\u001b[0m \u001b[31m8.5 MB/s\u001b[0m eta \u001b[36m0:00:01\u001b[0m\r\u001b[2K     \u001b[91m━━━━━━━━━━━━━━━━━━━━━━━━━━━━━━━━━━━━━\u001b[0m\u001b[91m╸\u001b[0m \u001b[32m983.0/993.0 kB\u001b[0m \u001b[31m16.9 MB/s\u001b[0m eta \u001b[36m0:00:01\u001b[0m\r\u001b[2K     \u001b[90m━━━━━━━━━━━━━━━━━━━━━━━━━━━━━━━━━━━━━━\u001b[0m \u001b[32m993.0/993.0 kB\u001b[0m \u001b[31m13.0 MB/s\u001b[0m eta \u001b[36m0:00:00\u001b[0m\n",
            "\u001b[?25h"
          ]
        }
      ]
    },
    {
      "cell_type": "code",
      "source": [
        "from visualkeras import layered_view\n",
        "\n",
        "layered_view(model,legend=True, draw_volume=True,draw_funnel=True)"
      ],
      "metadata": {
        "id": "Cls-tBPcjG-N"
      },
      "execution_count": null,
      "outputs": []
    },
    {
      "cell_type": "markdown",
      "source": [
        "### Usando `plot_model` de keras"
      ],
      "metadata": {
        "id": "-RlbmEMl16SR"
      }
    },
    {
      "cell_type": "code",
      "source": [
        "from keras.utils.vis_utils import plot_model\n",
        "\n",
        "plot_model(model, to_file='model_architecture.png', show_shapes=True, show_layer_names=True)"
      ],
      "metadata": {
        "id": "vfCezyaNXgfQ"
      },
      "execution_count": null,
      "outputs": []
    },
    {
      "cell_type": "markdown",
      "source": [
        "## Entrenando la red"
      ],
      "metadata": {
        "id": "SCWhDOIhcx6V"
      }
    },
    {
      "cell_type": "markdown",
      "source": [
        "Entrenamos la red con el método `fit`, usamos 8 épocas\n",
        "\n",
        "Observa que, para realizar el entrenamiento, usamos el conjunto de validación también. Este sirve para proporcionar un indicador no sesgado del desempeño del modelo.\n",
        "\n",
        "<img align=\"left\" width=\"50%\" src=\"https://github.com/DCDPUAEM/DCDP/blob/main/04%20Deep%20Learning/img/training-validation-test.png\"/>"
      ],
      "metadata": {
        "id": "uFawgzy6iQBO"
      }
    },
    {
      "cell_type": "code",
      "source": [
        "n_epocas = 8\n",
        "\n",
        "history = model.fit(X_train, y_train, epochs=n_epocas, validation_data=(X_test,y_test))"
      ],
      "metadata": {
        "id": "AiR8OwXtcxlg",
        "colab": {
          "base_uri": "https://localhost:8080/"
        },
        "outputId": "42d2dcf3-2c5d-449a-d5be-46e39b4dc304"
      },
      "execution_count": 7,
      "outputs": [
        {
          "output_type": "stream",
          "name": "stdout",
          "text": [
            "Epoch 1/8\n",
            "1875/1875 [==============================] - 12s 6ms/step - loss: 1.2365 - acc: 0.6115 - val_loss: 0.8373 - val_acc: 0.7422\n",
            "Epoch 2/8\n",
            "1875/1875 [==============================] - 11s 6ms/step - loss: 0.7848 - acc: 0.7540 - val_loss: 0.6875 - val_acc: 0.8057\n",
            "Epoch 3/8\n",
            "1875/1875 [==============================] - 9s 5ms/step - loss: 0.7202 - acc: 0.7804 - val_loss: 0.7492 - val_acc: 0.7563\n",
            "Epoch 4/8\n",
            "1875/1875 [==============================] - 10s 5ms/step - loss: 0.6944 - acc: 0.7801 - val_loss: 0.6550 - val_acc: 0.7923\n",
            "Epoch 5/8\n",
            "1875/1875 [==============================] - 9s 5ms/step - loss: 0.6646 - acc: 0.7985 - val_loss: 0.5951 - val_acc: 0.8243\n",
            "Epoch 6/8\n",
            "1875/1875 [==============================] - 10s 5ms/step - loss: 0.6487 - acc: 0.8046 - val_loss: 0.6861 - val_acc: 0.7882\n",
            "Epoch 7/8\n",
            "1875/1875 [==============================] - 12s 6ms/step - loss: 0.6468 - acc: 0.8043 - val_loss: 0.6346 - val_acc: 0.8151\n",
            "Epoch 8/8\n",
            "1875/1875 [==============================] - 9s 5ms/step - loss: 0.6141 - acc: 0.8186 - val_loss: 0.5539 - val_acc: 0.8300\n"
          ]
        }
      ]
    },
    {
      "cell_type": "markdown",
      "source": [
        "Graficamos la función de perdida en cada época, tanto en el conjunto de entrenamiento, como en el de validación."
      ],
      "metadata": {
        "id": "W_gbtP6biie8"
      }
    },
    {
      "cell_type": "code",
      "source": [
        "loss_train = history.history['loss']\n",
        "loss_val = history.history['val_loss']\n",
        "\n",
        "epochs = range(1,n_epocas+1)\n",
        "\n",
        "plt.figure(figsize=(7,5))\n",
        "plt.plot(epochs, loss_train, 'g', label='Training loss')\n",
        "plt.plot(epochs, loss_val, 'b', label='validation loss')\n",
        "plt.title('Training and Validation loss',fontsize=15)\n",
        "plt.xlabel('Epochs',fontsize=14)\n",
        "plt.ylabel('Loss',fontsize=14)\n",
        "plt.legend()\n",
        "plt.show()"
      ],
      "metadata": {
        "id": "kxTBG2maTJ8c",
        "colab": {
          "base_uri": "https://localhost:8080/",
          "height": 494
        },
        "outputId": "960362cb-3bb9-4c01-a1f9-358dcfdc70a7"
      },
      "execution_count": 8,
      "outputs": [
        {
          "output_type": "display_data",
          "data": {
            "text/plain": [
              "<Figure size 700x500 with 1 Axes>"
            ],
            "image/png": "[encoded data removed]"
          },
          "metadata": {}
        }
      ]
    },
    {
      "cell_type": "markdown",
      "source": [
        "Ahora, graficamos el accuracy a lo largo del entrenamiento, tanto en el conjunto de entrenamiento como en el validación."
      ],
      "metadata": {
        "id": "axnQmzhk68yK"
      }
    },
    {
      "cell_type": "code",
      "source": [
        "loss_train = history.history['acc']\n",
        "loss_val = history.history['val_acc']\n",
        "\n",
        "epochs = range(1,n_epocas+1)\n",
        "\n",
        "plt.figure(figsize=(7,5))\n",
        "plt.plot(epochs, loss_train, 'g', label='Training Accuracy')\n",
        "plt.plot(epochs, loss_val, 'b', label='Validation Accuracy')\n",
        "plt.title('Training and Validation Accuracy',fontsize=15)\n",
        "plt.xlabel('Epochs',fontsize=14)\n",
        "plt.ylabel('Accuracy',fontsize=14)\n",
        "plt.xticks(epochs)\n",
        "plt.legend()\n",
        "plt.show()"
      ],
      "metadata": {
        "id": "eRqEPhINf5bL",
        "colab": {
          "base_uri": "https://localhost:8080/",
          "height": 494
        },
        "outputId": "bdf362d4-e9fc-447f-d460-21c3c4dc5df0"
      },
      "execution_count": 9,
      "outputs": [
        {
          "output_type": "display_data",
          "data": {
            "text/plain": [
              "<Figure size 700x500 with 1 Axes>"
            ],
            "image/png": "[encoded data removed]"
          },
          "metadata": {}
        }
      ]
    },
    {
      "cell_type": "markdown",
      "source": [
        "De la siguiente forma podemos acceder a la matriz de pesos y sesgos en cada capa. Las guardamos como arreglos de numpy. Son los pesos usados en la notebook anterior."
      ],
      "metadata": {
        "id": "il-DfAt8iaAa"
      }
    },
    {
      "cell_type": "code",
      "source": [
        "first_layer_weights = model.layers[1].get_weights()[0]\n",
        "first_layer_biases  = model.layers[1].get_weights()[1]\n",
        "\n",
        "np.save(\"mnist_weights1.npy\",first_layer_weights)\n",
        "np.save(\"mnist_biases1.npy\",first_layer_biases)"
      ],
      "metadata": {
        "id": "gBNBoNKvVBqx"
      },
      "execution_count": null,
      "outputs": []
    },
    {
      "cell_type": "code",
      "source": [
        "second_layer_weights = model.layers[2].get_weights()[0]\n",
        "second_layer_biases  = model.layers[2].get_weights()[1]\n",
        "\n",
        "np.save(\"mnist_weights2.npy\",second_layer_weights)\n",
        "np.save(\"mnist_biases2.npy\",second_layer_biases)"
      ],
      "metadata": {
        "id": "vdfwdS6HWQXP"
      },
      "execution_count": null,
      "outputs": []
    },
    {
      "cell_type": "markdown",
      "source": [
        "## Predicciones y rendimiento"
      ],
      "metadata": {
        "id": "_qz0K0NOIyFy"
      }
    },
    {
      "cell_type": "markdown",
      "source": [
        "¿Cómo se ven las predicciones?"
      ],
      "metadata": {
        "id": "aGZMU7s6Xr30"
      }
    },
    {
      "cell_type": "code",
      "source": [
        "x = X_test[0].copy()\n",
        "\n",
        "# ----- Graficamos este primer ejemplo de prueba:\n",
        "plt.figure()\n",
        "plt.suptitle(y_test_original[0],fontsize=15)\n",
        "plt.imshow(x, cmap='gray')\n",
        "plt.xticks([])\n",
        "plt.yticks([])\n",
        "plt.show()\n",
        "\n",
        "# ----- Cambiamos a la forma adecuada para entrar a la red neuronal:\n",
        "x_input = x.reshape(-1,x.shape[0],x.shape[1])\n",
        "\n",
        "# ----- Lo pasamos por la red neuronal ya entrenada:\n",
        "prediction = model.predict(x_input)\n",
        "print(f\"\\nSalida de la red neuronal para este primer elemento:\\n {np.round(prediction,3)}\\n\")\n",
        "\n",
        "print(f\"Son probabilidades, la suma de las entradas es {np.sum(prediction)}\")\n",
        "\n",
        "# ----- Tomamos el argmax:\n",
        "prediction = np.argmax(prediction, axis=1)\n",
        "print(f\"\\nTomamos el índice de la entrada con mayor probabilidad: {prediction}\")"
      ],
      "metadata": {
        "id": "FnIT0a9oXpWT",
        "colab": {
          "base_uri": "https://localhost:8080/",
          "height": 593
        },
        "outputId": "4de84770-2b42-4435-c180-2e384479343c"
      },
      "execution_count": 10,
      "outputs": [
        {
          "output_type": "display_data",
          "data": {
            "text/plain": [
              "<Figure size 640x480 with 1 Axes>"
            ],
            "image/png": "[encoded data removed]"
          },
          "metadata": {}
        },
        {
          "output_type": "stream",
          "name": "stdout",
          "text": [
            "1/1 [==============================] - 0s 103ms/step\n",
            "\n",
            "Salida de la red neuronal para este primer elemento:\n",
            " [[0.    0.    0.002 0.001 0.    0.    0.    0.995 0.    0.001]]\n",
            "\n",
            "Son probabilidades, la suma de las entradas es 0.9999999403953552\n",
            "\n",
            "Tomamos el índice de la entrada con mayor probabilidad: [7]\n"
          ]
        }
      ]
    },
    {
      "cell_type": "markdown",
      "source": [
        "Obtenemos todas las predicciones sobre el conjunto de prueba:"
      ],
      "metadata": {
        "id": "sZGUKuY5aFWV"
      }
    },
    {
      "cell_type": "code",
      "source": [
        "predictions_matrix = model.predict(X_test)\n",
        "predictions = np.argmax(predictions_matrix, axis=1)"
      ],
      "metadata": {
        "id": "x0YY_HBa9jAa",
        "colab": {
          "base_uri": "https://localhost:8080/"
        },
        "outputId": "59e1c58c-bd8e-4066-e895-9c2a8f03382d"
      },
      "execution_count": 11,
      "outputs": [
        {
          "output_type": "stream",
          "name": "stdout",
          "text": [
            "313/313 [==============================] - 2s 6ms/step\n"
          ]
        }
      ]
    },
    {
      "cell_type": "markdown",
      "source": [
        "Visualizamos algunas predicciones"
      ],
      "metadata": {
        "id": "HlXiyLiGaLJv"
      }
    },
    {
      "cell_type": "code",
      "source": [
        "fig, axes = plt.subplots(ncols=10, sharex=False,\n",
        "\t\t\t sharey=True, figsize=(18, 4))\n",
        "for i in range(10):\n",
        "\taxes[i].set_title(predictions[i])\n",
        "\taxes[i].imshow(X_test[i], cmap='gray')\n",
        "\taxes[i].get_xaxis().set_visible(False)\n",
        "\taxes[i].get_yaxis().set_visible(False)\n",
        "plt.show()"
      ],
      "metadata": {
        "id": "daQYjWh99iq0",
        "colab": {
          "base_uri": "https://localhost:8080/",
          "height": 177
        },
        "outputId": "0a67b6bf-518a-400e-e6c1-978049201aab"
      },
      "execution_count": 12,
      "outputs": [
        {
          "output_type": "display_data",
          "data": {
            "text/plain": [
              "<Figure size 1800x400 with 10 Axes>"
            ],
            "image/png": "[encoded data removed]"
          },
          "metadata": {}
        }
      ]
    },
    {
      "cell_type": "markdown",
      "source": [
        "Obtenemos las métricas de desempeño de la tarea de clasificación. Observar que ambas son **vectores** de etiquetas"
      ],
      "metadata": {
        "id": "1cUoiJrvir5a"
      }
    },
    {
      "cell_type": "code",
      "source": [
        "print(predictions.shape)\n",
        "print(y_test_original.shape)"
      ],
      "metadata": {
        "id": "WCz6DqTG7vwa",
        "colab": {
          "base_uri": "https://localhost:8080/"
        },
        "outputId": "27e9cd13-109c-444e-c9f6-bb17142c527c"
      },
      "execution_count": 13,
      "outputs": [
        {
          "output_type": "stream",
          "name": "stdout",
          "text": [
            "(10000,)\n",
            "(10000,)\n"
          ]
        }
      ]
    },
    {
      "cell_type": "code",
      "source": [
        "from sklearn.metrics import accuracy_score, recall_score, precision_score\n",
        "\n",
        "print(f\"Test Accuracy: {accuracy_score(y_pred=predictions,y_true=y_test_original)}\")\n",
        "print(f\"Test Recall: {recall_score(y_pred=predictions,y_true=y_test_original,average='macro')}\")\n",
        "print(f\"Test Precision: {precision_score(y_pred=predictions,y_true=y_test_original,average='macro')}\")"
      ],
      "metadata": {
        "id": "GxxW6UUA9qP2",
        "colab": {
          "base_uri": "https://localhost:8080/"
        },
        "outputId": "a735cdbd-c34d-4116-b409-a3a14a93419f"
      },
      "execution_count": 14,
      "outputs": [
        {
          "output_type": "stream",
          "name": "stdout",
          "text": [
            "Test Accuracy: 0.83\n",
            "Test Recall: 0.8271171567562157\n",
            "Test Precision: 0.8276977481877259\n"
          ]
        }
      ]
    },
    {
      "cell_type": "markdown",
      "source": [
        "Calculamos el roc-auc score"
      ],
      "metadata": {
        "id": "15IH0ptN_HJ7"
      }
    },
    {
      "cell_type": "code",
      "source": [
        "from sklearn.metrics import roc_auc_score\n",
        "\n",
        "print(f\"Shape de y_test: {y_test.shape}\")\n",
        "print(f\"Shape de las predicciones para el conjunto de prueba: {predictions_matrix.shape}\")\n",
        "\n",
        "roc_auc_score(y_test,predictions_matrix)"
      ],
      "metadata": {
        "id": "CGdLt3Jq-hDS"
      },
      "execution_count": null,
      "outputs": []
    },
    {
      "cell_type": "markdown",
      "source": [
        "Mostramos la matriz de confusión"
      ],
      "metadata": {
        "id": "7ZCs1TCsiwr4"
      }
    },
    {
      "cell_type": "code",
      "source": [
        "import seaborn as sns\n",
        "from sklearn.metrics import confusion_matrix\n",
        "import matplotlib.pyplot as plt\n",
        "\n",
        "def show_confusion_matrix(confusion_matrix):\n",
        "  plt.figure(dpi=120)\n",
        "  hmap = sns.heatmap(confusion_matrix, annot=True, fmt=\"d\", cmap=\"Blues\")\n",
        "  new_xticks =  [str(int(x.get_text())+1) for x in hmap.xaxis.get_ticklabels()]\n",
        "  new_yticks =  [str(int(x.get_text())+1) for x in hmap.yaxis.get_ticklabels()]\n",
        "  hmap.xaxis.set_ticklabels(new_xticks, rotation=0, ha='right')\n",
        "  hmap.yaxis.set_ticklabels(new_yticks, rotation=0, ha='right')\n",
        "  plt.ylabel('True label')\n",
        "  plt.xlabel('Predicted label')\n",
        "  plt.show()\n",
        "\n",
        "cm = confusion_matrix(y_test_original,predictions)\n",
        "show_confusion_matrix(cm)"
      ],
      "metadata": {
        "id": "3bswIZT1EBjd"
      },
      "execution_count": null,
      "outputs": []
    },
    {
      "cell_type": "markdown",
      "source": [
        "⭕ ¿Qué dígitos son los que más confunde la red?"
      ],
      "metadata": {
        "id": "XebS2v79iy74"
      }
    },
    {
      "cell_type": "markdown",
      "source": [
        "---\n",
        "\n",
        "## ⭕ Práctica y Ejercicios\n",
        "\n",
        "Implementa las siguientes redes neuronales de tipo MLP:\n",
        "\n",
        "* 1 capa oculta de 200 neuronas sin activación. Entrena durante 30 épocas.\n",
        "* 1 capa oculta de 200 neuronas con activación $tanh$. Entrena durante 30 épocas.\n",
        "* 3 capas ocultas de 100, 200 y 100 neuronas respectivamente, todas con activación ReLU. Entrena durante 50 épocas.\n",
        "\n",
        "En cada uno de los experimentos determina las especificaciones de las capas de entrada y salida. Además, en cada caso, reporta el accuracy y recall en el conjunto de prueba.\n",
        "\n",
        "* Con el objetivo de subir la métrica de accuracy en el conjunto de prueba, entrena un nuevo módelo de red neuronal MLP cambiando los siguientes hiperparámetros:\n",
        "\n",
        "* Número de capas ocultas.\n",
        "* Número de neuronas en cada capa oculta.\n",
        "* Función de activación de cada capa oculta.\n",
        "* Optimizador ([opciones](https://keras.io/api/optimizers/)).\n",
        "\n",
        "\n",
        "---\n",
        "\n",
        "\n",
        "Como referencia, el mejor resultado hasta ahora, sin usar redes convolucionales, es un accuracy de 99.65% (https://arxiv.org/abs/1003.0358)\n",
        "\n",
        "Lista de resultados: http://yann.lecun.com/exdb/mnist/, https://paperswithcode.com/sota/image-classification-on-mnist"
      ],
      "metadata": {
        "id": "vDSCKhUMkOUL"
      }
    },
    {
      "cell_type": "markdown",
      "source": [
        "\n",
        "\n",
        "\n",
        "Esta es una estrategia que produce alrededor del 97% en las métricas de rendimiento.\n",
        "\n",
        "Además, **muestro cómo monitorear también el recall** durante el entrenamiento adicionalmente del accuracy."
      ],
      "metadata": {
        "id": "476YuSzUohvT"
      }
    },
    {
      "cell_type": "code",
      "source": [
        "from keras.layers import Dense, Flatten\n",
        "from keras.models import Sequential\n",
        "from tensorflow.keras.utils import to_categorical\n",
        "import numpy as np\n",
        "import matplotlib.pyplot as plt\n",
        "from keras.datasets import mnist\n",
        "\n",
        "(X_train, y_train), (X_test, y_test) = mnist.load_data()\n",
        "\n",
        "print(f\"X_train shape: {X_train.shape}\")\n",
        "print(f\"y_train shape: {y_train.shape}\")\n",
        "print(f\"X_test shape: {X_test.shape}\")\n",
        "print(f\"y_test shape: {y_test.shape}\")\n",
        "\n",
        "y_test_original = y_test.copy()\n",
        "y_train = to_categorical(y_train,num_classes=10)\n",
        "y_test = to_categorical(y_test,num_classes=10)"
      ],
      "metadata": {
        "id": "uDnEB9WX8m8B",
        "colab": {
          "base_uri": "https://localhost:8080/"
        },
        "outputId": "3d726c8a-598d-490b-c2cd-84027312e6da"
      },
      "execution_count": 2,
      "outputs": [
        {
          "output_type": "stream",
          "name": "stdout",
          "text": [
            "Downloading data from https://storage.googleapis.com/tensorflow/tf-keras-datasets/mnist.npz\n",
            "11490434/11490434 [==============================] - 0s 0us/step\n",
            "X_train shape: (60000, 28, 28)\n",
            "y_train shape: (60000,)\n",
            "X_test shape: (10000, 28, 28)\n",
            "y_test shape: (10000,)\n"
          ]
        }
      ]
    },
    {
      "cell_type": "code",
      "source": [
        "from tensorflow.keras.metrics import Recall\n",
        "from keras.optimizers import Adamax\n",
        "from keras.initializers import HeNormal\n",
        "\n",
        "rec = Recall()\n",
        "\n",
        "initializer = HeNormal()\n",
        "\n",
        "model = Sequential()\n",
        "model.add(Flatten(input_shape=(28,28),name='Entrada'))\n",
        "model.add(Dense(512, activation='relu',name='Capa_Oculta',\n",
        "                kernel_initializer=initializer))\n",
        "model.add(Dense(10, activation='softmax',name='Salida'))\n",
        "\n",
        "model.summary()\n",
        "\n",
        "optimizer = Adamax(learning_rate=0.09)\n",
        "\n",
        "model.compile(loss='categorical_crossentropy',\n",
        "\t      optimizer='adamax',\n",
        "\t      metrics=['acc',rec]\n",
        "\t\t  )"
      ],
      "metadata": {
        "colab": {
          "base_uri": "https://localhost:8080/"
        },
        "id": "mCAsSBH6TN1b",
        "outputId": "8f31f62e-ee24-4465-b00b-8745e95045e3"
      },
      "execution_count": 9,
      "outputs": [
        {
          "output_type": "stream",
          "name": "stdout",
          "text": [
            "Model: \"sequential_3\"\n",
            "_________________________________________________________________\n",
            " Layer (type)                Output Shape              Param #   \n",
            "=================================================================\n",
            " Entrada (Flatten)           (None, 784)               0         \n",
            "                                                                 \n",
            " Capa_Oculta (Dense)         (None, 512)               401920    \n",
            "                                                                 \n",
            " Salida (Dense)              (None, 10)                5130      \n",
            "                                                                 \n",
            "=================================================================\n",
            "Total params: 407050 (1.55 MB)\n",
            "Trainable params: 407050 (1.55 MB)\n",
            "Non-trainable params: 0 (0.00 Byte)\n",
            "_________________________________________________________________\n"
          ]
        }
      ]
    },
    {
      "cell_type": "code",
      "source": [
        "n_epocas = 50\n",
        "\n",
        "history = model.fit(X_train, y_train, epochs=n_epocas, validation_data=(X_test,y_test),\n",
        "                    batch_size=50)"
      ],
      "metadata": {
        "id": "Fi2pftpkTaD5",
        "colab": {
          "base_uri": "https://localhost:8080/"
        },
        "outputId": "3d47a8b0-e5d1-4ec3-a575-0b45332fc013"
      },
      "execution_count": 10,
      "outputs": [
        {
          "output_type": "stream",
          "name": "stdout",
          "text": [
            "Epoch 1/50\n",
            "1200/1200 [==============================] - 6s 4ms/step - loss: 5.5183 - acc: 0.8984 - recall_3: 0.8984 - val_loss: 2.2167 - val_acc: 0.9400 - val_recall_3: 0.9400\n",
            "Epoch 2/50\n",
            "1200/1200 [==============================] - 4s 4ms/step - loss: 1.5792 - acc: 0.9492 - recall_3: 0.9492 - val_loss: 1.4128 - val_acc: 0.9584 - val_recall_3: 0.9584\n",
            "Epoch 3/50\n",
            "1200/1200 [==============================] - 5s 4ms/step - loss: 0.8040 - acc: 0.9671 - recall_3: 0.9671 - val_loss: 1.1999 - val_acc: 0.9601 - val_recall_3: 0.9601\n",
            "Epoch 4/50\n",
            "1200/1200 [==============================] - 5s 4ms/step - loss: 0.4637 - acc: 0.9765 - recall_3: 0.9765 - val_loss: 1.0013 - val_acc: 0.9644 - val_recall_3: 0.9644\n",
            "Epoch 5/50\n",
            "1200/1200 [==============================] - 5s 4ms/step - loss: 0.2699 - acc: 0.9830 - recall_3: 0.9830 - val_loss: 1.0715 - val_acc: 0.9623 - val_recall_3: 0.9622\n",
            "Epoch 6/50\n",
            "1200/1200 [==============================] - 4s 4ms/step - loss: 0.1991 - acc: 0.9860 - recall_3: 0.9860 - val_loss: 0.9236 - val_acc: 0.9674 - val_recall_3: 0.9674\n",
            "Epoch 7/50\n",
            "1200/1200 [==============================] - 5s 4ms/step - loss: 0.1417 - acc: 0.9885 - recall_3: 0.9885 - val_loss: 0.9192 - val_acc: 0.9694 - val_recall_3: 0.9693\n",
            "Epoch 8/50\n",
            "1200/1200 [==============================] - 5s 4ms/step - loss: 0.0968 - acc: 0.9916 - recall_3: 0.9916 - val_loss: 0.8758 - val_acc: 0.9688 - val_recall_3: 0.9688\n",
            "Epoch 9/50\n",
            "1200/1200 [==============================] - 5s 4ms/step - loss: 0.0643 - acc: 0.9936 - recall_3: 0.9936 - val_loss: 0.9433 - val_acc: 0.9672 - val_recall_3: 0.9672\n",
            "Epoch 10/50\n",
            "1200/1200 [==============================] - 5s 4ms/step - loss: 0.0518 - acc: 0.9945 - recall_3: 0.9945 - val_loss: 0.8257 - val_acc: 0.9709 - val_recall_3: 0.9709\n",
            "Epoch 11/50\n",
            "1200/1200 [==============================] - 5s 4ms/step - loss: 0.0444 - acc: 0.9951 - recall_3: 0.9951 - val_loss: 0.8513 - val_acc: 0.9694 - val_recall_3: 0.9694\n",
            "Epoch 12/50\n",
            "1200/1200 [==============================] - 5s 4ms/step - loss: 0.0440 - acc: 0.9952 - recall_3: 0.9952 - val_loss: 0.8517 - val_acc: 0.9707 - val_recall_3: 0.9707\n",
            "Epoch 13/50\n",
            "1200/1200 [==============================] - 5s 4ms/step - loss: 0.0391 - acc: 0.9958 - recall_3: 0.9958 - val_loss: 0.8187 - val_acc: 0.9714 - val_recall_3: 0.9714\n",
            "Epoch 14/50\n",
            "1200/1200 [==============================] - 4s 4ms/step - loss: 0.0244 - acc: 0.9971 - recall_3: 0.9971 - val_loss: 0.8386 - val_acc: 0.9705 - val_recall_3: 0.9705\n",
            "Epoch 15/50\n",
            "1200/1200 [==============================] - 4s 4ms/step - loss: 0.0291 - acc: 0.9968 - recall_3: 0.9968 - val_loss: 0.7753 - val_acc: 0.9742 - val_recall_3: 0.9742\n",
            "Epoch 16/50\n",
            "1200/1200 [==============================] - 5s 4ms/step - loss: 0.0196 - acc: 0.9979 - recall_3: 0.9979 - val_loss: 0.7982 - val_acc: 0.9720 - val_recall_3: 0.9720\n",
            "Epoch 17/50\n",
            "1200/1200 [==============================] - 4s 4ms/step - loss: 0.0186 - acc: 0.9977 - recall_3: 0.9977 - val_loss: 0.8182 - val_acc: 0.9711 - val_recall_3: 0.9711\n",
            "Epoch 18/50\n",
            "1200/1200 [==============================] - 5s 4ms/step - loss: 0.0139 - acc: 0.9980 - recall_3: 0.9980 - val_loss: 0.8230 - val_acc: 0.9722 - val_recall_3: 0.9722\n",
            "Epoch 19/50\n",
            "1200/1200 [==============================] - 5s 4ms/step - loss: 0.0138 - acc: 0.9980 - recall_3: 0.9980 - val_loss: 0.8098 - val_acc: 0.9724 - val_recall_3: 0.9724\n",
            "Epoch 20/50\n",
            "1200/1200 [==============================] - 5s 4ms/step - loss: 0.0162 - acc: 0.9980 - recall_3: 0.9980 - val_loss: 0.8331 - val_acc: 0.9736 - val_recall_3: 0.9736\n",
            "Epoch 21/50\n",
            "1200/1200 [==============================] - 5s 4ms/step - loss: 0.0118 - acc: 0.9981 - recall_3: 0.9981 - val_loss: 0.8442 - val_acc: 0.9728 - val_recall_3: 0.9728\n",
            "Epoch 22/50\n",
            "1200/1200 [==============================] - 4s 4ms/step - loss: 0.0117 - acc: 0.9984 - recall_3: 0.9984 - val_loss: 0.7906 - val_acc: 0.9738 - val_recall_3: 0.9738\n",
            "Epoch 23/50\n",
            "1200/1200 [==============================] - 5s 4ms/step - loss: 0.0091 - acc: 0.9987 - recall_3: 0.9987 - val_loss: 0.8003 - val_acc: 0.9733 - val_recall_3: 0.9733\n",
            "Epoch 24/50\n",
            "1200/1200 [==============================] - 5s 4ms/step - loss: 0.0083 - acc: 0.9985 - recall_3: 0.9985 - val_loss: 0.8032 - val_acc: 0.9739 - val_recall_3: 0.9739\n",
            "Epoch 25/50\n",
            "1200/1200 [==============================] - 4s 4ms/step - loss: 0.0112 - acc: 0.9985 - recall_3: 0.9985 - val_loss: 0.8201 - val_acc: 0.9747 - val_recall_3: 0.9747\n",
            "Epoch 26/50\n",
            "1200/1200 [==============================] - 5s 5ms/step - loss: 0.0101 - acc: 0.9987 - recall_3: 0.9987 - val_loss: 0.7868 - val_acc: 0.9749 - val_recall_3: 0.9749\n",
            "Epoch 27/50\n",
            "1200/1200 [==============================] - 4s 4ms/step - loss: 0.0072 - acc: 0.9991 - recall_3: 0.9991 - val_loss: 0.8312 - val_acc: 0.9755 - val_recall_3: 0.9755\n",
            "Epoch 28/50\n",
            "1200/1200 [==============================] - 5s 4ms/step - loss: 0.0064 - acc: 0.9991 - recall_3: 0.9991 - val_loss: 0.8334 - val_acc: 0.9734 - val_recall_3: 0.9734\n",
            "Epoch 29/50\n",
            "1200/1200 [==============================] - 5s 4ms/step - loss: 0.0072 - acc: 0.9988 - recall_3: 0.9988 - val_loss: 0.7947 - val_acc: 0.9751 - val_recall_3: 0.9751\n",
            "Epoch 30/50\n",
            "1200/1200 [==============================] - 4s 4ms/step - loss: 0.0065 - acc: 0.9989 - recall_3: 0.9989 - val_loss: 0.7847 - val_acc: 0.9754 - val_recall_3: 0.9754\n",
            "Epoch 31/50\n",
            "1200/1200 [==============================] - 5s 4ms/step - loss: 0.0079 - acc: 0.9989 - recall_3: 0.9989 - val_loss: 0.8272 - val_acc: 0.9749 - val_recall_3: 0.9749\n",
            "Epoch 32/50\n",
            "1200/1200 [==============================] - 4s 4ms/step - loss: 0.0054 - acc: 0.9992 - recall_3: 0.9992 - val_loss: 0.8589 - val_acc: 0.9736 - val_recall_3: 0.9736\n",
            "Epoch 33/50\n",
            "1200/1200 [==============================] - 4s 4ms/step - loss: 0.0068 - acc: 0.9991 - recall_3: 0.9991 - val_loss: 0.8305 - val_acc: 0.9754 - val_recall_3: 0.9754\n",
            "Epoch 34/50\n",
            "1200/1200 [==============================] - 5s 4ms/step - loss: 0.0052 - acc: 0.9992 - recall_3: 0.9992 - val_loss: 0.8102 - val_acc: 0.9749 - val_recall_3: 0.9749\n",
            "Epoch 35/50\n",
            "1200/1200 [==============================] - 5s 4ms/step - loss: 0.0047 - acc: 0.9993 - recall_3: 0.9993 - val_loss: 0.8250 - val_acc: 0.9739 - val_recall_3: 0.9739\n",
            "Epoch 36/50\n",
            "1200/1200 [==============================] - 5s 4ms/step - loss: 0.0059 - acc: 0.9992 - recall_3: 0.9992 - val_loss: 0.8302 - val_acc: 0.9749 - val_recall_3: 0.9749\n",
            "Epoch 37/50\n",
            "1200/1200 [==============================] - 5s 4ms/step - loss: 0.0052 - acc: 0.9993 - recall_3: 0.9993 - val_loss: 0.8084 - val_acc: 0.9752 - val_recall_3: 0.9752\n",
            "Epoch 38/50\n",
            "1200/1200 [==============================] - 5s 4ms/step - loss: 0.0025 - acc: 0.9996 - recall_3: 0.9996 - val_loss: 0.7688 - val_acc: 0.9768 - val_recall_3: 0.9768\n",
            "Epoch 39/50\n",
            "1200/1200 [==============================] - 5s 4ms/step - loss: 0.0059 - acc: 0.9993 - recall_3: 0.9993 - val_loss: 0.7522 - val_acc: 0.9771 - val_recall_3: 0.9771\n",
            "Epoch 40/50\n",
            "1200/1200 [==============================] - 4s 4ms/step - loss: 0.0045 - acc: 0.9994 - recall_3: 0.9994 - val_loss: 0.8073 - val_acc: 0.9755 - val_recall_3: 0.9754\n",
            "Epoch 41/50\n",
            "1200/1200 [==============================] - 5s 4ms/step - loss: 0.0048 - acc: 0.9993 - recall_3: 0.9993 - val_loss: 0.7974 - val_acc: 0.9746 - val_recall_3: 0.9746\n",
            "Epoch 42/50\n",
            "1200/1200 [==============================] - 5s 4ms/step - loss: 0.0056 - acc: 0.9991 - recall_3: 0.9991 - val_loss: 0.8157 - val_acc: 0.9754 - val_recall_3: 0.9754\n",
            "Epoch 43/50\n",
            "1200/1200 [==============================] - 5s 4ms/step - loss: 0.0049 - acc: 0.9993 - recall_3: 0.9993 - val_loss: 0.8688 - val_acc: 0.9745 - val_recall_3: 0.9745\n",
            "Epoch 44/50\n",
            "1200/1200 [==============================] - 5s 4ms/step - loss: 0.0057 - acc: 0.9992 - recall_3: 0.9992 - val_loss: 0.8216 - val_acc: 0.9750 - val_recall_3: 0.9750\n",
            "Epoch 45/50\n",
            "1200/1200 [==============================] - 5s 4ms/step - loss: 0.0028 - acc: 0.9995 - recall_3: 0.9995 - val_loss: 0.8639 - val_acc: 0.9752 - val_recall_3: 0.9752\n",
            "Epoch 46/50\n",
            "1200/1200 [==============================] - 4s 4ms/step - loss: 0.0054 - acc: 0.9993 - recall_3: 0.9993 - val_loss: 0.8341 - val_acc: 0.9746 - val_recall_3: 0.9746\n",
            "Epoch 47/50\n",
            "1200/1200 [==============================] - 5s 4ms/step - loss: 0.0045 - acc: 0.9994 - recall_3: 0.9994 - val_loss: 0.8735 - val_acc: 0.9743 - val_recall_3: 0.9742\n",
            "Epoch 48/50\n",
            "1200/1200 [==============================] - 4s 4ms/step - loss: 0.0040 - acc: 0.9994 - recall_3: 0.9994 - val_loss: 0.8226 - val_acc: 0.9762 - val_recall_3: 0.9762\n",
            "Epoch 49/50\n",
            "1200/1200 [==============================] - 5s 4ms/step - loss: 0.0048 - acc: 0.9992 - recall_3: 0.9992 - val_loss: 0.8092 - val_acc: 0.9771 - val_recall_3: 0.9771\n",
            "Epoch 50/50\n",
            "1200/1200 [==============================] - 5s 4ms/step - loss: 0.0048 - acc: 0.9992 - recall_3: 0.9992 - val_loss: 0.8516 - val_acc: 0.9768 - val_recall_3: 0.9768\n"
          ]
        }
      ]
    },
    {
      "cell_type": "code",
      "source": [
        "loss_train = history.history['loss']\n",
        "loss_val = history.history['val_loss']\n",
        "acc_train = history.history['acc']\n",
        "acc_val = history.history['val_acc']\n",
        "\n",
        "epochs = range(1,n_epocas+1)\n",
        "\n",
        "fig, axs = plt.subplots(1,2,figsize=(10,5))\n",
        "axs[0].plot(epochs, loss_train, 'g', label='Training loss')\n",
        "axs[0].plot(epochs, loss_val, 'b', label='validation loss')\n",
        "axs[0].title.set_text('Loss')\n",
        "axs[0].set(xlabel=\"Época\", ylabel=\"Loss\")\n",
        "axs[0].legend()\n",
        "axs[1].plot(epochs, acc_train, 'g', label='Training accuracy')\n",
        "axs[1].plot(epochs, acc_val, 'b', label='validation accuracy')\n",
        "axs[1].title.set_text('Accuracy')\n",
        "axs[1].set(xlabel=\"Época\", ylabel=\"Accuracy\")\n",
        "axs[1].legend()\n",
        "\n",
        "fig.show()"
      ],
      "metadata": {
        "colab": {
          "base_uri": "https://localhost:8080/",
          "height": 489
        },
        "id": "Sg3yOXOSTetO",
        "outputId": "7d81ffdb-d47d-4d14-d9d4-d1d63175caa9"
      },
      "execution_count": 11,
      "outputs": [
        {
          "output_type": "display_data",
          "data": {
            "text/plain": [
              "<Figure size 1000x500 with 2 Axes>"
            ],
            "image/png": "[encoded data removed]"
          },
          "metadata": {}
        }
      ]
    },
    {
      "cell_type": "code",
      "source": [
        "from sklearn.metrics import accuracy_score, recall_score, precision_score\n",
        "\n",
        "predictions_matrix = model.predict(X_test)\n",
        "predictions = np.argmax(predictions_matrix, axis=1)\n",
        "\n",
        "print(f\"Test Accuracy: {accuracy_score(y_pred=predictions,y_true=y_test_original)}\")\n",
        "print(f\"Test Recall: {recall_score(y_pred=predictions,y_true=y_test_original,average='macro')}\")\n",
        "print(f\"Test Precision: {precision_score(y_pred=predictions,y_true=y_test_original,average='macro')}\")"
      ],
      "metadata": {
        "colab": {
          "base_uri": "https://localhost:8080/"
        },
        "id": "h8Vr7zjaTxRG",
        "outputId": "2ab12b88-c843-4261-808b-9750cda0c482"
      },
      "execution_count": 12,
      "outputs": [
        {
          "output_type": "stream",
          "name": "stdout",
          "text": [
            "313/313 [==============================] - 1s 2ms/step\n",
            "Test Accuracy: 0.9768\n",
            "Test Recall: 0.9765569945092377\n",
            "Test Precision: 0.9766596455174632\n"
          ]
        }
      ]
    },
    {
      "cell_type": "code",
      "source": [],
      "metadata": {
        "id": "1vi8S0nqWBm4"
      },
      "execution_count": null,
      "outputs": []
    }
  ]
}