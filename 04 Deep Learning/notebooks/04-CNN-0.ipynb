{
  "nbformat": 4,
  "nbformat_minor": 0,
  "metadata": {
    "colab": {
      "provenance": []
    },
    "kernelspec": {
      "name": "python3",
      "display_name": "Python 3"
    },
    "language_info": {
      "name": "python"
    }
  },
  "cells": [
    {
      "cell_type": "markdown",
      "source": [
        "<a href=\"https://colab.research.google.com/github/DCDPUAEM/DCDP/blob/main/04%20Deep%20Learning/notebooks/04-CNN-0.ipynb\" target=\"_parent\"><img src=\"https://colab.research.google.com/assets/colab-badge.svg\" alt=\"Open In Colab\"/></a>"
      ],
      "metadata": {
        "id": "CuzGO02BJbmv"
      }
    },
    {
      "cell_type": "markdown",
      "source": [
        "#Convolutional Neural Networks\n",
        "\n",
        "En esta notebook implementamos un ejemplo sencillo de una red CNN para el dataset de Fashion MNIST."
      ],
      "metadata": {
        "id": "RxqspH627xDx"
      }
    },
    {
      "cell_type": "code",
      "execution_count": null,
      "metadata": {
        "id": "24FpDZgIktFn"
      },
      "outputs": [],
      "source": [
        "from keras.datasets import fashion_mnist\n",
        "\n",
        "(x_train, y_train), (x_test, y_test) = fashion_mnist.load_data()\n",
        "\n",
        "x_train.shape"
      ]
    },
    {
      "cell_type": "markdown",
      "source": [
        "Hacemos reescalimiento para tener los valores de intensidad de los pixeles como valores $0\\leq x_i \\leq 1$:"
      ],
      "metadata": {
        "id": "iKvm1KkpPWEM"
      }
    },
    {
      "cell_type": "code",
      "source": [
        "x_train = x_train.astype('float32') / 255.0\n",
        "x_test = x_test.astype('float32') / 255.0"
      ],
      "metadata": {
        "id": "1M45Aisl4-nj"
      },
      "execution_count": null,
      "outputs": []
    },
    {
      "cell_type": "markdown",
      "source": [
        "Al ser clasificación multiclase tenemos que codificar los valores de clases a vectores de etiqueta:"
      ],
      "metadata": {
        "id": "_PRXoDG7Pjrv"
      }
    },
    {
      "cell_type": "code",
      "source": [
        "from keras.utils import to_categorical\n",
        "\n",
        "num_classes = 10\n",
        "y_train = to_categorical(y_train,num_classes)\n",
        "y_test = to_categorical(y_test,num_classes)"
      ],
      "metadata": {
        "id": "ZsUVYQjAtsLq"
      },
      "execution_count": null,
      "outputs": []
    },
    {
      "cell_type": "markdown",
      "source": [
        "Hacemos el reshape para incluir la información sobre el número de canales:"
      ],
      "metadata": {
        "id": "0DMusXMqPpBI"
      }
    },
    {
      "cell_type": "code",
      "source": [
        "x_train = x_train.reshape((x_train.shape[0], x_train.shape[1], x_train.shape[2], 1))\n",
        "x_test = x_test.reshape((x_test.shape[0], x_test.shape[1], x_test.shape[2], 1))"
      ],
      "metadata": {
        "id": "w4X0LknwqM1z"
      },
      "execution_count": null,
      "outputs": []
    },
    {
      "cell_type": "markdown",
      "source": [
        "Podemos definir el modelo Sequential como usualmente lo hacemos:"
      ],
      "metadata": {
        "id": "QtzOtyFtbZ2w"
      }
    },
    {
      "cell_type": "code",
      "source": [
        "# from keras.models import Sequential\n",
        "# from keras.layers import Dense, Conv2D, MaxPooling2D, Flatten, Dropout\n",
        "\n",
        "# model = Sequential()\n",
        "# model.add(Conv2D(filters=16,kernel_size=3,activation='relu',\n",
        "#                 padding=\"same\", strides=1,\n",
        "#                  input_shape=(x_train.shape[1], x_train.shape[2], 1)))\n",
        "# model.add(MaxPooling2D((2, 2)))\n",
        "# model.add(Flatten())\n",
        "# model.add(Dense(50, activation='relu'))\n",
        "# # model.add(Dropout(0.1))\n",
        "# model.add(Dense(10, activation='softmax'))\n",
        "\n",
        "# model.summary()\n",
        "\n",
        "# model.compile(optimizer='adam', loss='categorical_crossentropy', metrics=['accuracy'])"
      ],
      "metadata": {
        "id": "lVXrMhDhlQuu"
      },
      "execution_count": null,
      "outputs": []
    },
    {
      "cell_type": "markdown",
      "source": [
        "O podemos definirlo por medio de una"
      ],
      "metadata": {
        "id": "jRCuDGUDbfOA"
      }
    },
    {
      "cell_type": "code",
      "source": [
        "from keras.models import Sequential\n",
        "from keras.layers import Dense, Conv2D, MaxPooling2D, Flatten, Dropout\n",
        "\n",
        "def build_model(num_filtros=16,num_neuronas_densas=[50], dropout=False,\n",
        "                optimizador='adam'):\n",
        "    model = Sequential()\n",
        "    model.add(Conv2D(filters=num_filtros,kernel_size=3,activation='relu',\n",
        "                        padding=\"same\", strides=1,\n",
        "                        input_shape=(x_train.shape[1], x_train.shape[2], 1)))\n",
        "    model.add(MaxPooling2D((2, 2)))\n",
        "    model.add(Flatten())\n",
        "    for k in num_neuronas_densas:\n",
        "        model.add(Dense(k, activation='relu'))\n",
        "        if dropout:\n",
        "            model.add(Dropout(0.1))\n",
        "    model.add(Dense(10, activation='softmax'))\n",
        "    model.compile(optimizer=optimizador, loss='categorical_crossentropy', metrics=['accuracy'])\n",
        "    return model"
      ],
      "metadata": {
        "id": "jAyIKrOsPx6W"
      },
      "execution_count": null,
      "outputs": []
    },
    {
      "cell_type": "code",
      "source": [
        "model = build_model(num_filtros=64, dropout=False, num_neuronas_densas=[100,100])\n",
        "model.summary()"
      ],
      "metadata": {
        "id": "mp4dk21IQZYk"
      },
      "execution_count": null,
      "outputs": []
    },
    {
      "cell_type": "code",
      "source": [
        "from keras.callbacks import EarlyStopping\n",
        "\n",
        "early_stopping = EarlyStopping(monitor='val_loss', patience=3)"
      ],
      "metadata": {
        "id": "dB_p2xeEzkPd"
      },
      "execution_count": null,
      "outputs": []
    },
    {
      "cell_type": "code",
      "source": [
        "history = model.fit(x_train, y_train, epochs=30, validation_split=0.2,callbacks=[early_stopping])"
      ],
      "metadata": {
        "id": "3FAsOH-Sqwku"
      },
      "execution_count": null,
      "outputs": []
    },
    {
      "cell_type": "code",
      "source": [
        "model.evaluate(x_test, y_test)"
      ],
      "metadata": {
        "id": "XMf5FSrwqz0N"
      },
      "execution_count": null,
      "outputs": []
    },
    {
      "cell_type": "code",
      "source": [
        "import matplotlib.pyplot as plt\n",
        "\n",
        "fig, axs = plt.subplots(1, 2, figsize=(10, 5))\n",
        "\n",
        "axs[0].plot(history.history['loss'],label='Training')\n",
        "axs[0].plot(history.history['val_loss'],label='Validation')\n",
        "axs[0].set_title('Loss')\n",
        "axs[0].legend()\n",
        "axs[1].plot(history.history['accuracy'],label='Training')\n",
        "axs[1].plot(history.history['val_accuracy'],label='Validation')\n",
        "axs[1].set_title('Accuracy')\n",
        "axs[1].legend()\n",
        "fig.show()"
      ],
      "metadata": {
        "id": "m8sIeuAQrKWg"
      },
      "execution_count": null,
      "outputs": []
    },
    {
      "cell_type": "markdown",
      "source": [
        "⭕ Práctica\n",
        "\n",
        "Usando el mismo dataset, implementa las siguientes redes CNN usando como punto de partida la red que hemos implementado, ya sea la versión como función o la *normal* (si te sientes insegura/o respecto a la implementación, no uses el enfoque de función):\n",
        "\n",
        "* Una red CNN con dos capas convolucionales, en lugar de uno. La segunda capa tendrá las siguientes especificaciones:\n",
        " * Una capa convolucional 2D de 8 filtros, el resto de hiperparámetros serán los mismos.\n",
        " * Una capa de MaxPooling.\n",
        "* La red CNN anterior, con las mismas dos capas convolucionales. Cambia la función de activación por `tanh`. ¿Cómo cambian los resultados?\n",
        "* La red CNN anterior, con las mismas dos capas convolucionales. Cambia el hiperparámetro `padding='valid'`. ¿Qué observas?\n",
        "* La red CNN anterior, con las mismas dos capas convolucionales. En la parte MLP de la red, agrega 3 capas densas. Usa el número de neuronas en estas capas de tu elección, así como la función de activación en ellas. Experimenta un poco.\n",
        "* Una red CNN con una capa convolucional con 32 filtros, la parte MLP tendrá un capa oculta de 100 neuronas con activación `relu`. Para el optimizador una un [`SGD`](https://keras.io/api/optimizers/sgd/) con tasa de aprendizaje $0.01$.\n"
      ],
      "metadata": {
        "id": "mAWDu3nA9CXP"
      }
    },
    {
      "cell_type": "code",
      "source": [],
      "metadata": {
        "id": "9Y2HDNbav8HU"
      },
      "execution_count": null,
      "outputs": []
    },
    {
      "cell_type": "markdown",
      "source": [
        "* Implementa una red MLP para este mismo problema. Prueba al menos 3 arquitecturas diferentes, ¿cuál fue la mejor opción? ¿cómo se compara con una CNN?\n",
        " * No olvides el conjunto de validación.\n",
        " * Usa el callback de `EarlyStopping`.\n",
        " * Cuida no re-entrenar modelos.\n",
        "\n",
        "Para este último punto, usa el siguiente código para preparar el dataset:"
      ],
      "metadata": {
        "id": "m94tWDV3g1HW"
      }
    },
    {
      "cell_type": "code",
      "source": [
        "from keras.datasets import fashion_mnist\n",
        "\n",
        "(X_train, y_train), (X_test, y_test) = fashion_mnist.load_data()\n",
        "\n",
        "print(\"Shapes al cargar el dataset:\")\n",
        "print(f\"X train shape: {X_train.shape}\")\n",
        "print(f\"y train shape: {y_train.shape}\")\n",
        "print(f\"X test shape: {X_test.shape}\")\n",
        "print(f\"y test shape: {y_test.shape}\")\n",
        "\n",
        "num_classes = 10\n",
        "y_train = to_categorical(y_train, num_classes)\n",
        "y_test = to_categorical(y_test, num_classes)\n",
        "\n",
        "X_train = X_train.astype('float32') / 255.0\n",
        "X_test = X_test.astype('float32') / 255.0\n",
        "\n",
        "X_train = X_train.reshape(-1, 784)\n",
        "X_test = X_test.reshape(-1, 784)\n",
        "\n",
        "print(\"\\nShapes al preprocesar el dataset:\")\n",
        "print(f\"X train shape: {X_train.shape}\")\n",
        "print(f\"y train shape: {y_train.shape}\")\n",
        "print(f\"X test shape: {X_test.shape}\")\n",
        "print(f\"y test shape: {y_test.shape}\")"
      ],
      "metadata": {
        "id": "06A7gTR6g1qB"
      },
      "execution_count": null,
      "outputs": []
    },
    {
      "cell_type": "markdown",
      "source": [
        "Dudas: mauricio.toledo@unison.mx"
      ],
      "metadata": {
        "id": "EH_tiE8Qif8h"
      }
    },
    {
      "cell_type": "markdown",
      "source": [
        "Respecto a las dimensiones de salida de una capa convolucional: [wikipedia](https://en.wikipedia.org/wiki/Convolutional_neural_network#Convolutional_layer), [stackoverflow](https://stackoverflow.com/questions/53580088/calculate-the-output-size-in-convolution-layer)."
      ],
      "metadata": {
        "id": "vS644W0EfICG"
      }
    }
  ]
}